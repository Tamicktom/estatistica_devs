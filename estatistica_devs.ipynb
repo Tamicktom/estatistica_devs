{
 "cells": [
  {
   "cell_type": "code",
   "execution_count": 1,
   "metadata": {},
   "outputs": [],
   "source": [
    "import pandas as pd"
   ]
  },
  {
   "cell_type": "code",
   "execution_count": 4,
   "metadata": {},
   "outputs": [],
   "source": [
    "dict_medidas = {\n",
    "  \"idade\": [15,18,25,25,40,55,58,60,80], \n",
    "  \"altura\":[160,162,165,168,172,174,174,174,176]\n",
    "  }"
   ]
  },
  {
   "cell_type": "code",
   "execution_count": 5,
   "metadata": {},
   "outputs": [],
   "source": [
    "df_medidas = pd.DataFrame.from_dict(dict_medidas);"
   ]
  },
  {
   "cell_type": "code",
   "execution_count": 6,
   "metadata": {},
   "outputs": [
    {
     "name": "stdout",
     "output_type": "stream",
     "text": [
      "   idade  altura\n",
      "0     15     160\n",
      "1     18     162\n",
      "2     25     165\n",
      "3     25     168\n",
      "4     40     172\n",
      "5     55     174\n",
      "6     58     174\n",
      "7     60     174\n",
      "8     80     176\n"
     ]
    }
   ],
   "source": [
    "print(df_medidas)"
   ]
  },
  {
   "cell_type": "markdown",
   "metadata": {},
   "source": [
    "## Medidas Resumo\n",
    "\n",
    "### Medidas de Posição"
   ]
  },
  {
   "cell_type": "code",
   "execution_count": 10,
   "metadata": {},
   "outputs": [
    {
     "name": "stdout",
     "output_type": "stream",
     "text": [
      "41.77777777777778\n",
      "169.44444444444446\n"
     ]
    }
   ],
   "source": [
    "# Média\n",
    "print(df_medidas[\"idade\"].mean())\n",
    "print(df_medidas[\"altura\"].mean())"
   ]
  },
  {
   "cell_type": "code",
   "execution_count": 11,
   "metadata": {},
   "outputs": [
    {
     "name": "stdout",
     "output_type": "stream",
     "text": [
      "40.0\n",
      "172.0\n"
     ]
    }
   ],
   "source": [
    "# Mediana\n",
    "print(df_medidas[\"idade\"].median())\n",
    "print(df_medidas[\"altura\"].median())"
   ]
  },
  {
   "cell_type": "code",
   "execution_count": 12,
   "metadata": {},
   "outputs": [
    {
     "name": "stdout",
     "output_type": "stream",
     "text": [
      "0    25\n",
      "Name: idade, dtype: int64\n",
      "0    174\n",
      "Name: altura, dtype: int64\n"
     ]
    }
   ],
   "source": [
    "# Moda\n",
    "print(df_medidas[\"idade\"].mode())\n",
    "print(df_medidas[\"altura\"].mode())"
   ]
  },
  {
   "cell_type": "markdown",
   "metadata": {},
   "source": [
    "### Medidas de Dispersão"
   ]
  },
  {
   "cell_type": "code",
   "execution_count": 13,
   "metadata": {},
   "outputs": [
    {
     "name": "stdout",
     "output_type": "stream",
     "text": [
      "509.94444444444446\n",
      "34.77777777777778\n"
     ]
    }
   ],
   "source": [
    "# Variância\n",
    "print(df_medidas[\"idade\"].var())\n",
    "print(df_medidas[\"altura\"].var())"
   ]
  },
  {
   "cell_type": "code",
   "execution_count": 16,
   "metadata": {},
   "outputs": [
    {
     "name": "stdout",
     "output_type": "stream",
     "text": [
      "22.58194952709895\n",
      "5.897268670984711\n"
     ]
    }
   ],
   "source": [
    "# Desvio Padrão\n",
    "idade_std = df_medidas[\"idade\"].std()\n",
    "altura_std = df_medidas[\"altura\"].std()\n",
    "\n",
    "print(idade_std)\n",
    "print(altura_std)"
   ]
  },
  {
   "cell_type": "code",
   "execution_count": 20,
   "metadata": {},
   "outputs": [
    {
     "name": "stdout",
     "output_type": "stream",
     "text": [
      "54.05253876167302\n",
      "13.327052179927248\n"
     ]
    }
   ],
   "source": [
    "# Coeficiente de Variação\n",
    "print(idade_std/df_medidas[\"idade\"].mean() * 100) # 100 para transformar em porcentagem\n",
    "print(idade_std/df_medidas[\"altura\"].mean() * 100) # 100 para transformar em porcentagem"
   ]
  },
  {
   "cell_type": "markdown",
   "metadata": {},
   "source": [
    "### Medidas de Forma"
   ]
  },
  {
   "cell_type": "code",
   "execution_count": 24,
   "metadata": {},
   "outputs": [
    {
     "name": "stdout",
     "output_type": "stream",
     "text": [
      "0.368108517895537\n"
     ]
    }
   ],
   "source": [
    "# Assimetria - Idade\n",
    "print(df_medidas.idade.skew())"
   ]
  },
  {
   "cell_type": "code",
   "execution_count": 26,
   "metadata": {},
   "outputs": [
    {
     "name": "stdout",
     "output_type": "stream",
     "text": [
      "-0.598486996170113\n"
     ]
    }
   ],
   "source": [
    "# Assimetria - Altura\n",
    "print(df_medidas.altura.skew())"
   ]
  },
  {
   "cell_type": "code",
   "execution_count": 27,
   "metadata": {},
   "outputs": [
    {
     "name": "stdout",
     "output_type": "stream",
     "text": [
      "-1.1344461075421046\n"
     ]
    }
   ],
   "source": [
    "# Curtose - Idade\n",
    "print(df_medidas.idade.kurtosis())"
   ]
  },
  {
   "cell_type": "code",
   "execution_count": 28,
   "metadata": {},
   "outputs": [
    {
     "name": "stdout",
     "output_type": "stream",
     "text": [
      "-1.3372641199913002\n"
     ]
    }
   ],
   "source": [
    "# Curtose - Altura\n",
    "print(df_medidas.altura.kurtosis())"
   ]
  },
  {
   "cell_type": "code",
   "execution_count": 30,
   "metadata": {},
   "outputs": [
    {
     "name": "stdout",
     "output_type": "stream",
     "text": [
      "count     9.000000\n",
      "mean     41.777778\n",
      "std      22.581950\n",
      "min      15.000000\n",
      "25%      25.000000\n",
      "50%      40.000000\n",
      "75%      58.000000\n",
      "max      80.000000\n",
      "Name: idade, dtype: float64\n",
      "count      9.000000\n",
      "mean     169.444444\n",
      "std        5.897269\n",
      "min      160.000000\n",
      "25%      165.000000\n",
      "50%      172.000000\n",
      "75%      174.000000\n",
      "max      176.000000\n",
      "Name: altura, dtype: float64\n"
     ]
    }
   ],
   "source": [
    "# Obter medidas estatisticas\n",
    "print(df_medidas.idade.describe())\n",
    "print(df_medidas.altura.describe())"
   ]
  }
 ],
 "metadata": {
  "kernelspec": {
   "display_name": "estatistica_devs-qcOEdMew",
   "language": "python",
   "name": "python3"
  },
  "language_info": {
   "codemirror_mode": {
    "name": "ipython",
    "version": 3
   },
   "file_extension": ".py",
   "mimetype": "text/x-python",
   "name": "python",
   "nbconvert_exporter": "python",
   "pygments_lexer": "ipython3",
   "version": "3.12.0"
  }
 },
 "nbformat": 4,
 "nbformat_minor": 2
}
